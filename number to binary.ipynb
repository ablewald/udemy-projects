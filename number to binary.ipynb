{
 "cells": [
  {
   "cell_type": "code",
   "execution_count": 131,
   "metadata": {},
   "outputs": [],
   "source": [
    "def set_to_number(nums):\n",
    "    \"\"\"\n",
    "    :param nums which is a set of integers: \n",
    "    :return the entries of nums concatenated together: \n",
    "    \"\"\"\n",
    "    # gives a place holder string. turns nums into a string so we can concatenate and then turn back into an int\n",
    "    holder = \"\"\n",
    "    for i in nums:\n",
    "        holder+=str(i)\n",
    "    return int(holder)"
   ]
  },
  {
   "cell_type": "code",
   "execution_count": 132,
   "metadata": {
    "collapsed": true
   },
   "outputs": [],
   "source": [
    "def num_bin(num):\n",
    "    \"\"\"\n",
    "    :param num which is a positive int: \n",
    "    :return num in binary form: \n",
    "    \"\"\"\n",
    "    # place holder to find the max power of 2 is less than or equal to num\n",
    "    max_power = 0\n",
    "    # calculates max_power\n",
    "    while num - 2**max_power >= 0:\n",
    "        max_power += 1\n",
    "    # creates a set which is the binary representation of num\n",
    "    set_holder = []\n",
    "    for i in range(max_power):\n",
    "        if num - 2**(max_power-i-1) >= 0:\n",
    "            set_holder.append(1)\n",
    "            num -= 2**(max_power-i-1)\n",
    "        else:\n",
    "            set_holder.append(0)\n",
    "    return set_to_number(set_holder)"
   ]
  },
  {
   "cell_type": "code",
   "execution_count": 154,
   "metadata": {},
   "outputs": [
    {
     "data": {
      "text/plain": [
       "10100111001"
      ]
     },
     "execution_count": 154,
     "metadata": {},
     "output_type": "execute_result"
    }
   ],
   "source": [
    "num_bin(1337)"
   ]
  },
  {
   "cell_type": "code",
   "execution_count": 125,
   "metadata": {},
   "outputs": [],
   "source": [
    "def c_of_b(num, base):\n",
    "    \"\"\"\n",
    "    :param num which is a positive int in base 10: \n",
    "    :param base which is the new base to transfer num to between 1 and 10: \n",
    "    :return num in base \"base\": \n",
    "    \"\"\"\n",
    "    if base > 10:\n",
    "        new_base = int(input(\"Between one and ten please: \"))\n",
    "        c_of_b(num, new_base)\n",
    "    # place holder to find the max power of base is less than or equal to num\n",
    "    max_power = 0\n",
    "    # calculates max_power\n",
    "    while num - base**max_power >= 0:\n",
    "        max_power += 1\n",
    "    # creates a set which is the binary representation of num\n",
    "    set_holder = []\n",
    "    for i in range(max_power):\n",
    "        # while statement finds how many of each power occurs\n",
    "        power_holder = 0\n",
    "        while num - base**(max_power-i-1) >= 0:\n",
    "            num -= base**(max_power-i-1)\n",
    "            power_holder += 1\n",
    "        # add back to num since it will be 0 and subtract one from power_holder since it will over count\n",
    "        set_holder.append(power_holder)\n",
    "    return set_to_number(set_holder)"
   ]
  },
  {
   "cell_type": "code",
   "execution_count": 136,
   "metadata": {},
   "outputs": [
    {
     "data": {
      "text/plain": [
       "33"
      ]
     },
     "execution_count": 136,
     "metadata": {},
     "output_type": "execute_result"
    }
   ],
   "source": [
    "c_of_b(27, 8)"
   ]
  },
  {
   "cell_type": "code",
   "execution_count": 148,
   "metadata": {},
   "outputs": [],
   "source": [
    "def bin_num(bnum):\n",
    "    \"\"\"\n",
    "    :param bnum which is a binary number: \n",
    "    :return bnum in base 10: \n",
    "    \"\"\"\n",
    "    bnum = str(bnum)\n",
    "    # place holder to build our number by adding powers of 2\n",
    "    answer = 0\n",
    "    # using len to line up the powers of 2 with the correct locations of bnum\n",
    "    x = len(bnum)\n",
    "    for i in bnum:\n",
    "        answer += int(i)*2**(x-1)\n",
    "        x -= 1\n",
    "    print(answer)"
   ]
  },
  {
   "cell_type": "code",
   "execution_count": 152,
   "metadata": {},
   "outputs": [
    {
     "name": "stdout",
     "output_type": "stream",
     "text": [
      "6293\n"
     ]
    }
   ],
   "source": [
    "bin_num(1100010010101)"
   ]
  },
  {
   "cell_type": "code",
   "execution_count": 150,
   "metadata": {},
   "outputs": [
    {
     "name": "stdout",
     "output_type": "stream",
     "text": [
      "2\n0\n0\n0\n2\n0\n0\n2\n0\n2\n0\n0\n"
     ]
    }
   ],
   "source": [
    "for i in \"100010010100\":\n",
    "    print(2*int(i))"
   ]
  },
  {
   "cell_type": "code",
   "execution_count": null,
   "metadata": {},
   "outputs": [],
   "source": []
  },
  {
   "cell_type": "code",
   "execution_count": null,
   "metadata": {},
   "outputs": [],
   "source": []
  },
  {
   "cell_type": "code",
   "execution_count": null,
   "metadata": {},
   "outputs": [],
   "source": []
  },
  {
   "cell_type": "code",
   "execution_count": null,
   "metadata": {},
   "outputs": [],
   "source": []
  },
  {
   "cell_type": "code",
   "execution_count": null,
   "metadata": {},
   "outputs": [],
   "source": []
  }
 ],
 "metadata": {
  "kernelspec": {
   "display_name": "Python 2",
   "language": "python",
   "name": "python2"
  },
  "language_info": {
   "codemirror_mode": {
    "name": "ipython",
    "version": 2
   },
   "file_extension": ".py",
   "mimetype": "text/x-python",
   "name": "python",
   "nbconvert_exporter": "python",
   "pygments_lexer": "ipython2",
   "version": "2.7.6"
  }
 },
 "nbformat": 4,
 "nbformat_minor": 0
}
