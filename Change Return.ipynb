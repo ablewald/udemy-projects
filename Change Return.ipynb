{
 "cells": [
  {
   "cell_type": "code",
   "execution_count": 1,
   "metadata": {
    "collapsed": true
   },
   "outputs": [],
   "source": [
    "import math\n",
    "\n",
    "\n",
    "def change(money, price):\n",
    "    \"\"\"\n",
    "    :param money: \n",
    "    :param price: \n",
    "    :return denomination of change, from pennies to 100 dollar bills: \n",
    "    \"\"\"\n",
    "\n",
    "    # total_change is the total change left over before split by denomination\n",
    "    # the floor and multiplying by 100 is used to account for error and to use integers\n",
    "    total_change = math.ceil((money - price)*100)\n",
    "\n",
    "    # if the user doesn't input enough money rerun the program with new payment\n",
    "    if total_change < 0:\n",
    "        new_money = float(input(\"Please give enough money to cover the cost: \"))\n",
    "        change(new_money, price)\n",
    "    else:\n",
    "        # placeholders that will increase with while statements\n",
    "        amount = {\"100(s)\": 0, \"50(s)\": 0, \"20(s)\": 0, \"10(s)\": 0, \"5(s)\": 0, \"1(s)\": 0, \"quarter(s)\": 0, \"dime(s)\": 0, \"nickle(s)\": 0, \"pennie(s)\": 0}\n",
    "\n",
    "        while total_change >= 10000:\n",
    "            amount[\"100(s)\"] += 1\n",
    "            total_change -= 10000\n",
    "            \n",
    "        while total_change >= 5000:\n",
    "            amount[\"50(s)\"] += 1\n",
    "            total_change -= 5000\n",
    "            \n",
    "        while total_change >= 2000:\n",
    "            amount[\"20(s)\"] += 1\n",
    "            total_change -= 2000\n",
    "        \n",
    "        while total_change >= 1000:\n",
    "            amount[\"10(s)\"] += 1\n",
    "            total_change -= 1000\n",
    "        \n",
    "        while total_change >= 500:\n",
    "            amount[\"5(s)\"] += 1\n",
    "            total_change -= 500\n",
    "        \n",
    "        while total_change >= 100:\n",
    "            amount[\"1(s)\"] += 1\n",
    "            total_change -= 100\n",
    "            \n",
    "        while total_change >= 25:\n",
    "            amount[\"quarter(s)\"] += 1\n",
    "            total_change -= 25\n",
    "        \n",
    "        while total_change >= 10:\n",
    "            amount[\"dime(s)\"] += 1\n",
    "            total_change -= 10\n",
    "        \n",
    "        while total_change >= 5:\n",
    "            amount[\"nickle(s)\"] += 1\n",
    "            total_change -= 5\n",
    "        \n",
    "        while total_change >= 1:\n",
    "            amount[\"pennie(s)\"] += 1\n",
    "            total_change -= 1\n",
    "        \n",
    "        print(\"Your change is:\")\n",
    "        for i in amount:\n",
    "            if amount[i] > 0:\n",
    "                print(f\"{amount[i]} {i}\")\n",
    "        \n",
    "        \n"
   ]
  },
  {
   "cell_type": "code",
   "execution_count": 56,
   "metadata": {},
   "outputs": [
    {
     "name": "stdout",
     "output_type": "stream",
     "text": [
      "44379\nYour change is:\n4 100(s)\n2 20(s)\n3 1(s)\n3 quarter(s)\n4 pennie(s)\n"
     ]
    }
   ],
   "source": [
    "change(5443.78, 4999.99)"
   ]
  },
  {
   "cell_type": "code",
   "execution_count": null,
   "metadata": {},
   "outputs": [],
   "source": []
  }
 ],
 "metadata": {
  "kernelspec": {
   "display_name": "Python 2",
   "language": "python",
   "name": "python2"
  },
  "language_info": {
   "codemirror_mode": {
    "name": "ipython",
    "version": 2
   },
   "file_extension": ".py",
   "mimetype": "text/x-python",
   "name": "python",
   "nbconvert_exporter": "python",
   "pygments_lexer": "ipython2",
   "version": "2.7.6"
  }
 },
 "nbformat": 4,
 "nbformat_minor": 0
}
